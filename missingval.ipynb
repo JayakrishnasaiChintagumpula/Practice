{
 "cells": [
  {
   "cell_type": "code",
   "execution_count": 53,
   "metadata": {},
   "outputs": [],
   "source": [
    "import numpy as np\n",
    "import pandas as pd\n",
    "import matplotlib as plt\n",
    "\n",
    "df = pd.read_csv(r\"C:\\Users\\jayak\\OneDrive\\Desktop\\Data Analytics\\Missingvalex.csv\")"
   ]
  },
  {
   "cell_type": "code",
   "execution_count": 54,
   "metadata": {},
   "outputs": [
    {
     "data": {
      "text/plain": [
       "<bound method DataFrame.info of     ID             Name   Age    Salary   Department  Experience\n",
       "0    1         John Doe  28.0   50000.0  Engineering         5.0\n",
       "1    2       Jane Smith  35.0   60000.0    Marketing         8.0\n",
       "2    3  Michael Johnson   NaN   45000.0  Engineering         7.0\n",
       "3    4      Emily Davis  22.0   52000.0        Sales         NaN\n",
       "4    5     Chris Wilson  45.0  120000.0  Engineering        20.0\n",
       "5    6     Ashley Brown   NaN   54000.0        Sales         3.0\n",
       "6    7        David Lee  38.0       NaN    Marketing        10.0\n",
       "7    8      Linda White  50.0   70000.0  Engineering        25.0\n",
       "8    9      James Green  40.0  130000.0        Sales        18.0\n",
       "9   10     Susan Harris  31.0   55000.0        Sales         NaN\n",
       "10  11     Robert Clark  33.0   62000.0    Marketing        12.0\n",
       "11  12       Mary Allen  27.0   48000.0  Engineering         4.0\n",
       "12  13     Charles King  46.0   70000.0  Engineering        22.0\n",
       "13  14   Patricia Young  37.0   65000.0        Sales        14.0\n",
       "14  15   Richard Wright  29.0   53000.0        Sales         5.0\n",
       "15  16      Joseph Hall   NaN   51000.0  Engineering         6.0\n",
       "16  17     Sandra Lewis  28.0   49000.0        Sales         4.0\n",
       "17  18      Paul Walker  31.0  150000.0    Marketing         9.0\n",
       "18  19   Kimberly Adams  34.0       NaN        Sales         8.0\n",
       "19  20    Steven Miller  42.0   62000.0  Engineering        15.0>"
      ]
     },
     "execution_count": 54,
     "metadata": {},
     "output_type": "execute_result"
    }
   ],
   "source": [
    "df.info"
   ]
  },
  {
   "cell_type": "code",
   "execution_count": 55,
   "metadata": {},
   "outputs": [
    {
     "name": "stdout",
     "output_type": "stream",
     "text": [
      "ID            0\n",
      "Name          0\n",
      "Age           3\n",
      "Salary        2\n",
      "Department    0\n",
      "Experience    2\n",
      "dtype: int64\n"
     ]
    }
   ],
   "source": [
    "print(df.isnull().sum())"
   ]
  },
  {
   "cell_type": "code",
   "execution_count": 56,
   "metadata": {},
   "outputs": [],
   "source": [
    "# USING MEAN to fill missing values, We can do same for median and mode\n",
    "\n",
    "uds_df = df\n",
    "uds_df['Age']= uds_df['Age'].fillna(df['Age'].mean())\n",
    "uds_df['Salary']= uds_df['Salary'].fillna(df['Salary'].mean())\n",
    "uds_df['Experience']= uds_df['Experience'].fillna(df['Experience'].mean())"
   ]
  },
  {
   "cell_type": "code",
   "execution_count": 57,
   "metadata": {},
   "outputs": [
    {
     "name": "stdout",
     "output_type": "stream",
     "text": [
      "<class 'pandas.core.frame.DataFrame'>\n",
      "RangeIndex: 20 entries, 0 to 19\n",
      "Data columns (total 6 columns):\n",
      " #   Column      Non-Null Count  Dtype  \n",
      "---  ------      --------------  -----  \n",
      " 0   ID          20 non-null     int64  \n",
      " 1   Name        20 non-null     object \n",
      " 2   Age         20 non-null     float64\n",
      " 3   Salary      20 non-null     float64\n",
      " 4   Department  20 non-null     object \n",
      " 5   Experience  20 non-null     float64\n",
      "dtypes: float64(3), int64(1), object(2)\n",
      "memory usage: 1.1+ KB\n"
     ]
    }
   ],
   "source": [
    "uds_df.info()"
   ]
  },
  {
   "cell_type": "code",
   "execution_count": 58,
   "metadata": {},
   "outputs": [
    {
     "data": {
      "text/plain": [
       "<bound method DataFrame.info of     ID             Name        Age         Salary   Department  Experience\n",
       "0    1         John Doe  28.000000   50000.000000  Engineering    5.000000\n",
       "1    2       Jane Smith  35.000000   60000.000000    Marketing    8.000000\n",
       "2    3  Michael Johnson  35.058824   45000.000000  Engineering    7.000000\n",
       "3    4      Emily Davis  22.000000   52000.000000        Sales   10.833333\n",
       "4    5     Chris Wilson  45.000000  120000.000000  Engineering   20.000000\n",
       "5    6     Ashley Brown  35.058824   54000.000000        Sales    3.000000\n",
       "6    7        David Lee  38.000000   69222.222222    Marketing   10.000000\n",
       "7    8      Linda White  50.000000   70000.000000  Engineering   25.000000\n",
       "8    9      James Green  40.000000  130000.000000        Sales   18.000000\n",
       "9   10     Susan Harris  31.000000   55000.000000        Sales   10.833333\n",
       "10  11     Robert Clark  33.000000   62000.000000    Marketing   12.000000\n",
       "11  12       Mary Allen  27.000000   48000.000000  Engineering    4.000000\n",
       "12  13     Charles King  46.000000   70000.000000  Engineering   22.000000\n",
       "13  14   Patricia Young  37.000000   65000.000000        Sales   14.000000\n",
       "14  15   Richard Wright  29.000000   53000.000000        Sales    5.000000\n",
       "15  16      Joseph Hall  35.058824   51000.000000  Engineering    6.000000\n",
       "16  17     Sandra Lewis  28.000000   49000.000000        Sales    4.000000\n",
       "17  18      Paul Walker  31.000000  150000.000000    Marketing    9.000000\n",
       "18  19   Kimberly Adams  34.000000   69222.222222        Sales    8.000000\n",
       "19  20    Steven Miller  42.000000   62000.000000  Engineering   15.000000>"
      ]
     },
     "execution_count": 58,
     "metadata": {},
     "output_type": "execute_result"
    }
   ],
   "source": [
    "uds_df.info"
   ]
  },
  {
   "cell_type": "code",
   "execution_count": 59,
   "metadata": {},
   "outputs": [],
   "source": [
    "#BACKWARD Filling Technique to fill missing values, we can do same for FORWARD Filling Technique\n",
    "\n",
    "df1 = df\n",
    "df1['Age']= df['Age'].bfill()\n",
    "df1['Salary']= df['Salary'].bfill()\n",
    "df1['Experience']= df['Experience'].bfill()"
   ]
  },
  {
   "cell_type": "code",
   "execution_count": 60,
   "metadata": {},
   "outputs": [
    {
     "data": {
      "text/plain": [
       "<bound method DataFrame.info of     ID             Name        Age         Salary   Department  Experience\n",
       "0    1         John Doe  28.000000   50000.000000  Engineering    5.000000\n",
       "1    2       Jane Smith  35.000000   60000.000000    Marketing    8.000000\n",
       "2    3  Michael Johnson  35.058824   45000.000000  Engineering    7.000000\n",
       "3    4      Emily Davis  22.000000   52000.000000        Sales   10.833333\n",
       "4    5     Chris Wilson  45.000000  120000.000000  Engineering   20.000000\n",
       "5    6     Ashley Brown  35.058824   54000.000000        Sales    3.000000\n",
       "6    7        David Lee  38.000000   69222.222222    Marketing   10.000000\n",
       "7    8      Linda White  50.000000   70000.000000  Engineering   25.000000\n",
       "8    9      James Green  40.000000  130000.000000        Sales   18.000000\n",
       "9   10     Susan Harris  31.000000   55000.000000        Sales   10.833333\n",
       "10  11     Robert Clark  33.000000   62000.000000    Marketing   12.000000\n",
       "11  12       Mary Allen  27.000000   48000.000000  Engineering    4.000000\n",
       "12  13     Charles King  46.000000   70000.000000  Engineering   22.000000\n",
       "13  14   Patricia Young  37.000000   65000.000000        Sales   14.000000\n",
       "14  15   Richard Wright  29.000000   53000.000000        Sales    5.000000\n",
       "15  16      Joseph Hall  35.058824   51000.000000  Engineering    6.000000\n",
       "16  17     Sandra Lewis  28.000000   49000.000000        Sales    4.000000\n",
       "17  18      Paul Walker  31.000000  150000.000000    Marketing    9.000000\n",
       "18  19   Kimberly Adams  34.000000   69222.222222        Sales    8.000000\n",
       "19  20    Steven Miller  42.000000   62000.000000  Engineering   15.000000>"
      ]
     },
     "execution_count": 60,
     "metadata": {},
     "output_type": "execute_result"
    }
   ],
   "source": [
    "df1.info"
   ]
  },
  {
   "cell_type": "code",
   "execution_count": 61,
   "metadata": {},
   "outputs": [],
   "source": [
    "# FEATURE SCALING\n",
    "\n",
    "from sklearn.preprocessing import MinMaxScaler\n",
    "from sklearn.preprocessing import StandardScaler"
   ]
  },
  {
   "cell_type": "code",
   "execution_count": 62,
   "metadata": {},
   "outputs": [],
   "source": [
    "new_df = pd.DataFrame(df,columns = ['Age','Salary','Experience'])"
   ]
  },
  {
   "cell_type": "code",
   "execution_count": 63,
   "metadata": {},
   "outputs": [
    {
     "name": "stdout",
     "output_type": "stream",
     "text": [
      "[[0.21428571 0.04761905 0.09090909]\n",
      " [0.46428571 0.14285714 0.22727273]\n",
      " [0.46638655 0.         0.18181818]\n",
      " [0.         0.06666667 0.35606061]\n",
      " [0.82142857 0.71428571 0.77272727]\n",
      " [0.46638655 0.08571429 0.        ]\n",
      " [0.57142857 0.23068783 0.31818182]\n",
      " [1.         0.23809524 1.        ]\n",
      " [0.64285714 0.80952381 0.68181818]\n",
      " [0.32142857 0.0952381  0.35606061]\n",
      " [0.39285714 0.16190476 0.40909091]\n",
      " [0.17857143 0.02857143 0.04545455]\n",
      " [0.85714286 0.23809524 0.86363636]\n",
      " [0.53571429 0.19047619 0.5       ]\n",
      " [0.25       0.07619048 0.09090909]\n",
      " [0.46638655 0.05714286 0.13636364]\n",
      " [0.21428571 0.03809524 0.04545455]\n",
      " [0.32142857 1.         0.27272727]\n",
      " [0.42857143 0.23068783 0.22727273]\n",
      " [0.71428571 0.16190476 0.54545455]]\n"
     ]
    }
   ],
   "source": [
    "scaler = MinMaxScaler()\n",
    "df_1 = scaler.fit_transform(new_df)\n",
    "print(df_1)"
   ]
  },
  {
   "cell_type": "code",
   "execution_count": 20,
   "metadata": {},
   "outputs": [
    {
     "name": "stdout",
     "output_type": "stream",
     "text": [
      "[[-1.03131459 -0.67650526 -0.9398217 ]\n",
      " [-0.00859429 -0.32456611 -0.45648483]\n",
      " [ 0.         -0.85247483 -0.61759712]\n",
      " [-1.90793198 -0.60611743  0.        ]\n",
      " [ 1.45243471  1.7870688   1.47686268]\n",
      " [ 0.         -0.5357296  -1.26204629]\n",
      " [ 0.42971441  0.         -0.13426024]\n",
      " [ 2.18294921  0.02737305  2.28242414]\n",
      " [ 0.72192021  2.13900795  1.15463809]\n",
      " [-0.59300589 -0.50053568  0.        ]\n",
      " [-0.30080009 -0.25417828  0.18796434]\n",
      " [-1.17741748 -0.74689309 -1.100934  ]\n",
      " [ 1.59853761  0.02737305  1.79908726]\n",
      " [ 0.28361151 -0.14859653  0.51018893]\n",
      " [-0.88521169 -0.57092351 -0.9398217 ]\n",
      " [ 0.         -0.64131134 -0.77870941]\n",
      " [-1.03131459 -0.71169917 -1.100934  ]\n",
      " [-0.59300589  2.84288625 -0.29537254]\n",
      " [-0.15469719  0.         -0.45648483]\n",
      " [ 1.01412601 -0.25417828  0.67130122]]\n"
     ]
    }
   ],
   "source": [
    "scaler = StandardScaler()\n",
    "df_2 = scaler.fit_transform(new_df)\n",
    "print(df_2)"
   ]
  }
 ],
 "metadata": {
  "kernelspec": {
   "display_name": "Python 3",
   "language": "python",
   "name": "python3"
  },
  "language_info": {
   "codemirror_mode": {
    "name": "ipython",
    "version": 3
   },
   "file_extension": ".py",
   "mimetype": "text/x-python",
   "name": "python",
   "nbconvert_exporter": "python",
   "pygments_lexer": "ipython3",
   "version": "3.12.1"
  }
 },
 "nbformat": 4,
 "nbformat_minor": 2
}
